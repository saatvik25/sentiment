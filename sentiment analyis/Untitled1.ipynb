{
 "cells": [
  {
   "cell_type": "code",
   "execution_count": 1,
   "id": "5674c6cc-2ef8-4f34-b5ab-1e5ba171b223",
   "metadata": {},
   "outputs": [],
   "source": [
    "import pandas as pd\n",
    "import re\n",
    "from nltk.corpus import stopwords\n",
    "from nltk.stem import WordNetLemmatizer\n",
    "from sklearn.feature_extraction.text import TfidfVectorizer\n",
    "from sklearn.ensemble import RandomForestClassifier\n",
    "from sklearn.model_selection import train_test_split\n",
    "from sklearn.metrics import accuracy_score\n",
    "import pickle\n",
    "import nltk"
   ]
  },
  {
   "cell_type": "code",
   "execution_count": null,
   "id": "6b7d6352-f4d6-412e-a37b-3ac9ce8a0570",
   "metadata": {},
   "outputs": [],
   "source": [
    "# Download NLTK resources\n",
    "nltk.download('stopwords')\n",
    "nltk.download('wordnet')\n"
   ]
  },
  {
   "cell_type": "code",
   "execution_count": null,
   "id": "a4d6545e-717f-48c6-9e8c-2670634db0a8",
   "metadata": {},
   "outputs": [],
   "source": [
    "\n",
    "\n",
    "# Load your data\n",
    "df = pd.read_csv(\"EcoPreprocessed.csv\")\n",
    "df = df.drop([\"Unnamed: 0\", \"polarity\"], axis=1)\n",
    "df.rename(columns={'division': 'label', 'review': 'sentence'}, inplace=True)\n"
   ]
  },
  {
   "cell_type": "code",
   "execution_count": null,
   "id": "93ab2ad6-1709-4695-b0fa-8cf8d23e3eaa",
   "metadata": {},
   "outputs": [],
   "source": [
    "# Convert labels to numeric values\n",
    "label_mapping = {'positive': 1, 'negative': -1, 'neutral': 0}\n",
    "df['label'] = df['label'].map(label_mapping)\n",
    "\n",
    "# Function to preprocess a text string\n",
    "stop_words = set(stopwords.words('english'))\n",
    "lemmatizer = WordNetLemmatizer()"
   ]
  },
  {
   "cell_type": "code",
   "execution_count": null,
   "id": "7df1590c-d7ca-42ca-85e3-6e1a51826f73",
   "metadata": {},
   "outputs": [],
   "source": [
    "def preprocess_text(text):\n",
    "    text = re.sub(r'[^a-zA-Z\\s]', '', text)\n",
    "    text = text.lower()\n",
    "    tokens = text.split()\n",
    "    tokens = [lemmatizer.lemmatize(word) for word in tokens if word not in stop_words]\n",
    "    text = ' '.join(tokens)\n",
    "    return text"
   ]
  },
  {
   "cell_type": "code",
   "execution_count": null,
   "id": "557b8b83-1928-44f3-a6ce-68eef42455c8",
   "metadata": {},
   "outputs": [],
   "source": [
    "# Apply preprocessing to the 'sentence' column\n",
    "df['sentence'] = df['sentence'].apply(preprocess_text)\n",
    "\n",
    "# Create a TF-IDF vectorizer\n",
    "tfidf_vectorizer = TfidfVectorizer(max_features=1000, stop_words='english')\n",
    "tfidf_features = tfidf_vectorizer.fit_transform(df['sentence'])\n",
    "\n",
    "# Convert the TF-IDF features to a DataFrame\n",
    "tfidf_df = pd.DataFrame(tfidf_features.toarray(), columns=tfidf_vectorizer.get_feature_names_out())\n",
    "\n",
    "# Combine the TF-IDF features DataFrame with the 'label' column\n",
    "final_df = pd.concat([tfidf_df, df['label']], axis=1)\n"
   ]
  },
  {
   "cell_type": "code",
   "execution_count": null,
   "id": "5799f1a5-732b-4485-a4ce-da58b2dd419e",
   "metadata": {},
   "outputs": [],
   "source": [
    "# Split the data into training and testing sets\n",
    "x = final_df.drop('label', axis=1)\n",
    "y = final_df['label']\n",
    "X_train, X_test, Y_train, Y_test = train_test_split(x, y, test_size=0.2, random_state=0)\n"
   ]
  },
  {
   "cell_type": "code",
   "execution_count": null,
   "id": "f78a5b21-8ddd-403f-8924-b0e03713a58b",
   "metadata": {},
   "outputs": [],
   "source": [
    "# Random Forest model\n",
    "model = RandomForestClassifier(n_estimators=100, criterion='gini', random_state=0)\n",
    "model.fit(X_train, Y_train)"
   ]
  },
  {
   "cell_type": "code",
   "execution_count": null,
   "id": "a159179d-c858-465e-9758-a39a950e560a",
   "metadata": {},
   "outputs": [],
   "source": [
    "# Evaluate the model\n",
    "print('Random Forest Training Accuracy:', model.score(X_train, Y_train))\n",
    "y_pred = model.predict(X_test)\n",
    "print('Accuracy on Test Set:', accuracy_score(Y_test, y_pred))\n"
   ]
  },
  {
   "cell_type": "code",
   "execution_count": null,
   "id": "4eedf16c-4987-4aea-8100-d6482765d59c",
   "metadata": {},
   "outputs": [],
   "source": []
  },
  {
   "cell_type": "code",
   "execution_count": null,
   "id": "9dcd7b21-43c3-468a-ac36-f5c12a2003cc",
   "metadata": {},
   "outputs": [],
   "source": []
  },
  {
   "cell_type": "code",
   "execution_count": null,
   "id": "2bdc0610-bb37-4a88-b5a8-88cdf521c344",
   "metadata": {},
   "outputs": [],
   "source": []
  },
  {
   "cell_type": "code",
   "execution_count": null,
   "id": "2e496853-e6e7-46e6-8a89-5a958b285be0",
   "metadata": {},
   "outputs": [],
   "source": []
  }
 ],
 "metadata": {
  "kernelspec": {
   "display_name": "myenv",
   "language": "python",
   "name": "myenv"
  },
  "language_info": {
   "codemirror_mode": {
    "name": "ipython",
    "version": 3
   },
   "file_extension": ".py",
   "mimetype": "text/x-python",
   "name": "python",
   "nbconvert_exporter": "python",
   "pygments_lexer": "ipython3",
   "version": "3.11.4"
  }
 },
 "nbformat": 4,
 "nbformat_minor": 5
}
